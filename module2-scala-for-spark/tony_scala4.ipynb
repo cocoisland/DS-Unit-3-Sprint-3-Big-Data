{
  "nbformat": 4,
  "nbformat_minor": 0,
  "metadata": {
    "colab": {
      "name": "tony-scala4.ipynb",
      "version": "0.3.2",
      "provenance": [],
      "include_colab_link": true
    },
    "kernelspec": {
      "name": "sparkkernel",
      "display_name": "Spark",
      "language": ""
    }
  },
  "cells": [
    {
      "cell_type": "markdown",
      "metadata": {
        "id": "view-in-github",
        "colab_type": "text"
      },
      "source": [
        "<a href=\"https://colab.research.google.com/github/cocoisland/DS-Unit-3-Sprint-3-Big-Data/blob/master/module2-scala-for-spark/tony_scala4.ipynb\" target=\"_parent\"><img src=\"https://colab.research.google.com/assets/colab-badge.svg\" alt=\"Open In Colab\"/></a>"
      ]
    },
    {
      "metadata": {
        "trusted": true,
        "id": "4sT4gpCn385z",
        "colab_type": "code",
        "colab": {},
        "outputId": "0bc69980-396e-4cbf-dcc2-b504570bfec6"
      },
      "cell_type": "code",
      "source": [
        "println(\"Hello World\")\n",
        "println(10)"
      ],
      "execution_count": 0,
      "outputs": [
        {
          "output_type": "display_data",
          "data": {
            "text/plain": [
              "VBox()"
            ],
            "application/vnd.jupyter.widget-view+json": {
              "version_major": 2,
              "version_minor": 0,
              "model_id": "c2553d17e5c246a4a1fb9eb537fb2638"
            }
          },
          "metadata": {
            "tags": []
          }
        },
        {
          "output_type": "stream",
          "text": [
            "Starting Spark application\n"
          ],
          "name": "stdout"
        },
        {
          "output_type": "display_data",
          "data": {
            "text/plain": [
              "<IPython.core.display.HTML object>"
            ],
            "text/html": [
              "<table>\n",
              "<tr><th>ID</th><th>YARN Application ID</th><th>Kind</th><th>State</th><th>Spark UI</th><th>Driver log</th><th>Current session?</th></tr><tr><td>2</td><td>application_1551213010934_0003</td><td>spark</td><td>idle</td><td><a target=\"_blank\" href=\"http://ip-172-31-8-43.us-west-2.compute.internal:20888/proxy/application_1551213010934_0003/\">Link</a></td><td><a target=\"_blank\" href=\"http://ip-172-31-8-43.us-west-2.compute.internal:8042/node/containerlogs/container_1551213010934_0003_01_000001/livy\">Link</a></td><td>✔</td></tr></table>"
            ]
          },
          "metadata": {
            "tags": []
          }
        },
        {
          "output_type": "stream",
          "text": [
            "SparkSession available as 'spark'.\n",
            "Hello World\n",
            "10\n"
          ],
          "name": "stdout"
        }
      ]
    },
    {
      "metadata": {
        "trusted": true,
        "id": "IiLnO8ut3856",
        "colab_type": "code",
        "colab": {},
        "outputId": "b1351901-7277-4428-dce0-a05b168434d9"
      },
      "cell_type": "code",
      "source": [
        "print(\"Hello world!\")\n",
        "print(10)"
      ],
      "execution_count": 0,
      "outputs": [
        {
          "output_type": "display_data",
          "data": {
            "text/plain": [
              "VBox()"
            ],
            "application/vnd.jupyter.widget-view+json": {
              "version_major": 2,
              "version_minor": 0,
              "model_id": "ed166f7117fc428298ae102155af34b5"
            }
          },
          "metadata": {
            "tags": []
          }
        },
        {
          "output_type": "stream",
          "text": [
            "Hello world!10"
          ],
          "name": "stdout"
        }
      ]
    },
    {
      "metadata": {
        "trusted": true,
        "id": "U5aEwrGF385-",
        "colab_type": "code",
        "colab": {},
        "outputId": "a3b883f2-2c7c-4e9b-e942-60b2361c7bb0"
      },
      "cell_type": "code",
      "source": [
        "val x = 10\n",
        "x=20"
      ],
      "execution_count": 0,
      "outputs": [
        {
          "output_type": "display_data",
          "data": {
            "text/plain": [
              "VBox()"
            ],
            "application/vnd.jupyter.widget-view+json": {
              "version_major": 2,
              "version_minor": 0,
              "model_id": "b86fa573cc3c43acbeef93bff56bfabd"
            }
          },
          "metadata": {
            "tags": []
          }
        },
        {
          "output_type": "stream",
          "text": [
            "<console>:25: error: reassignment to val\n",
            "       x=20\n",
            "        ^\n",
            "\n"
          ],
          "name": "stderr"
        }
      ]
    },
    {
      "metadata": {
        "trusted": true,
        "id": "kFgMHMfc386B",
        "colab_type": "code",
        "colab": {},
        "outputId": "8ff5bbf0-5700-48ae-e66f-02fcc810811a"
      },
      "cell_type": "code",
      "source": [
        "var y = 10\n",
        "y =20"
      ],
      "execution_count": 0,
      "outputs": [
        {
          "output_type": "display_data",
          "data": {
            "text/plain": [
              "VBox()"
            ],
            "application/vnd.jupyter.widget-view+json": {
              "version_major": 2,
              "version_minor": 0,
              "model_id": "2ea6f38e7d3946a0962950da089fb04c"
            }
          },
          "metadata": {
            "tags": []
          }
        },
        {
          "output_type": "stream",
          "text": [
            "y: Int = 10\n",
            "y: Int = 20\n"
          ],
          "name": "stdout"
        }
      ]
    },
    {
      "metadata": {
        "trusted": true,
        "id": "OCVd0M4e386F",
        "colab_type": "code",
        "colab": {},
        "outputId": "977b8ec9-754d-426a-afec-d5f2404a3522"
      },
      "cell_type": "code",
      "source": [
        "val z: Int=10\n",
        "val a: Double=1.0"
      ],
      "execution_count": 0,
      "outputs": [
        {
          "output_type": "display_data",
          "data": {
            "text/plain": [
              "VBox()"
            ],
            "application/vnd.jupyter.widget-view+json": {
              "version_major": 2,
              "version_minor": 0,
              "model_id": "f25be52faf3745c8be0a378c9b3b3cbc"
            }
          },
          "metadata": {
            "tags": []
          }
        },
        {
          "output_type": "stream",
          "text": [
            "z: Int = 10\n",
            "a: Double = 1.0\n"
          ],
          "name": "stdout"
        }
      ]
    },
    {
      "metadata": {
        "trusted": true,
        "id": "0DBZ9cQG386H",
        "colab_type": "code",
        "colab": {},
        "outputId": "94a04c46-f434-4077-e08c-1d4443f81ebb"
      },
      "cell_type": "code",
      "source": [
        "val b: Double=10"
      ],
      "execution_count": 0,
      "outputs": [
        {
          "output_type": "display_data",
          "data": {
            "text/plain": [
              "VBox()"
            ],
            "application/vnd.jupyter.widget-view+json": {
              "version_major": 2,
              "version_minor": 0,
              "model_id": "cfa1d1e427bf409cb24dc49242ac7210"
            }
          },
          "metadata": {
            "tags": []
          }
        },
        {
          "output_type": "stream",
          "text": [
            "b: Double = 10.0\n"
          ],
          "name": "stdout"
        }
      ]
    },
    {
      "metadata": {
        "id": "zq-hBvGm386N",
        "colab_type": "text"
      },
      "cell_type": "markdown",
      "source": [
        "# true\n",
        "false"
      ]
    },
    {
      "metadata": {
        "trusted": true,
        "id": "wJzSyb_X386O",
        "colab_type": "code",
        "colab": {},
        "outputId": "00de405c-f63b-4967-9a5d-5902b27ebd26"
      },
      "cell_type": "code",
      "source": [
        "!true\n",
        "!false\n",
        "true == false\n",
        "10 > 5"
      ],
      "execution_count": 0,
      "outputs": [
        {
          "output_type": "display_data",
          "data": {
            "text/plain": [
              "VBox()"
            ],
            "application/vnd.jupyter.widget-view+json": {
              "version_major": 2,
              "version_minor": 0,
              "model_id": "3fcaf16bd247403ba0a7aea4f3045a5c"
            }
          },
          "metadata": {
            "tags": []
          }
        },
        {
          "output_type": "stream",
          "text": [
            "res9: Boolean = false\n",
            "res10: Boolean = true\n",
            "res11: Boolean = false\n",
            "res12: Boolean = true\n"
          ],
          "name": "stdout"
        }
      ]
    },
    {
      "metadata": {
        "trusted": true,
        "id": "l6wUzujy386Q",
        "colab_type": "code",
        "colab": {},
        "outputId": "b5b1fee1-efb9-43e0-8ffa-837919624f75"
      },
      "cell_type": "code",
      "source": [
        "1+1\n",
        "2 - 1\n",
        "5 * 3\n",
        "6/2\n",
        "6/4\n",
        "6.0/4\n",
        "6/4.0"
      ],
      "execution_count": 0,
      "outputs": [
        {
          "output_type": "display_data",
          "data": {
            "text/plain": [
              "VBox()"
            ],
            "application/vnd.jupyter.widget-view+json": {
              "version_major": 2,
              "version_minor": 0,
              "model_id": "d0321814514b419880ace2190dba8ae2"
            }
          },
          "metadata": {
            "tags": []
          }
        },
        {
          "output_type": "stream",
          "text": [
            "res13: Int = 2\n",
            "res14: Int = 1\n",
            "res15: Int = 15\n",
            "res16: Int = 3\n",
            "res17: Int = 1\n",
            "res18: Double = 1.5\n",
            "res19: Double = 1.5\n"
          ],
          "name": "stdout"
        }
      ]
    },
    {
      "metadata": {
        "trusted": true,
        "id": "yEQimxt2386T",
        "colab_type": "code",
        "colab": {},
        "outputId": "4a9117a3-c0ad-4777-ee12-d25efe9c6d81"
      },
      "cell_type": "code",
      "source": [
        "1+7"
      ],
      "execution_count": 0,
      "outputs": [
        {
          "output_type": "display_data",
          "data": {
            "text/plain": [
              "VBox()"
            ],
            "application/vnd.jupyter.widget-view+json": {
              "version_major": 2,
              "version_minor": 0,
              "model_id": "fa69bd7f7ab54ebd946dd525bed1f312"
            }
          },
          "metadata": {
            "tags": []
          }
        },
        {
          "output_type": "stream",
          "text": [
            "res20: Int = 8\n"
          ],
          "name": "stdout"
        }
      ]
    },
    {
      "metadata": {
        "trusted": true,
        "id": "eW6BpnsK386W",
        "colab_type": "code",
        "colab": {},
        "outputId": "d8d6d1cf-3126-419c-d5a8-6ced1fd10bf8"
      },
      "cell_type": "code",
      "source": [
        "\"a\""
      ],
      "execution_count": 0,
      "outputs": [
        {
          "output_type": "display_data",
          "data": {
            "text/plain": [
              "VBox()"
            ],
            "application/vnd.jupyter.widget-view+json": {
              "version_major": 2,
              "version_minor": 0,
              "model_id": "101f85a213e3443780c65adcd259781a"
            }
          },
          "metadata": {
            "tags": []
          }
        },
        {
          "output_type": "stream",
          "text": [
            "res21: String = a\n"
          ],
          "name": "stdout"
        }
      ]
    },
    {
      "metadata": {
        "trusted": true,
        "id": "QbgBWQgO386Z",
        "colab_type": "code",
        "colab": {},
        "outputId": "905d86d5-bbcf-4092-8fa1-ebeb32cf8aa7"
      },
      "cell_type": "code",
      "source": [
        "'a'"
      ],
      "execution_count": 0,
      "outputs": [
        {
          "output_type": "display_data",
          "data": {
            "text/plain": [
              "VBox()"
            ],
            "application/vnd.jupyter.widget-view+json": {
              "version_major": 2,
              "version_minor": 0,
              "model_id": "e593730d2fc84edba7fe35151333f196"
            }
          },
          "metadata": {
            "tags": []
          }
        },
        {
          "output_type": "stream",
          "text": [
            "res22: Char = a\n"
          ],
          "name": "stdout"
        }
      ]
    },
    {
      "metadata": {
        "trusted": true,
        "id": "hyYLljh8386d",
        "colab_type": "code",
        "colab": {},
        "outputId": "98cac6f4-55c4-4946-88ca-da0da7ffc9b2"
      },
      "cell_type": "code",
      "source": [
        "\"hello world\".length\n",
        "\"hello world\".substring(2,6)\n",
        "\"hello world\".replace(\"o\",\"3\")"
      ],
      "execution_count": 0,
      "outputs": [
        {
          "output_type": "display_data",
          "data": {
            "text/plain": [
              "VBox()"
            ],
            "application/vnd.jupyter.widget-view+json": {
              "version_major": 2,
              "version_minor": 0,
              "model_id": "8c93ed482cf64620bfe4fcf0fa4bfa15"
            }
          },
          "metadata": {
            "tags": []
          }
        },
        {
          "output_type": "stream",
          "text": [
            "res26: Int = 11\n",
            "res27: String = \"llo \"\n",
            "res28: String = hell3 w3rld\n"
          ],
          "name": "stdout"
        }
      ]
    },
    {
      "metadata": {
        "trusted": true,
        "id": "jukPxcUq386l",
        "colab_type": "code",
        "colab": {},
        "outputId": "858541ae-cb87-499d-ab28-1c703056b99b"
      },
      "cell_type": "code",
      "source": [
        "\"hello world\".take(5)\n",
        "\"hello world\".drop(5)"
      ],
      "execution_count": 0,
      "outputs": [
        {
          "output_type": "display_data",
          "data": {
            "text/plain": [
              "VBox()"
            ],
            "application/vnd.jupyter.widget-view+json": {
              "version_major": 2,
              "version_minor": 0,
              "model_id": "402271ce419d49b8babbc7bb33591601"
            }
          },
          "metadata": {
            "tags": []
          }
        },
        {
          "output_type": "stream",
          "text": [
            "res29: String = hello\n",
            "res30: String = \" world\"\n"
          ],
          "name": "stdout"
        }
      ]
    },
    {
      "metadata": {
        "trusted": true,
        "id": "h7t5T3ZV386q",
        "colab_type": "code",
        "colab": {},
        "outputId": "da844424-3d9b-409a-b2ed-0c1e3364fa4d"
      },
      "cell_type": "code",
      "source": [
        "val n=45\n",
        "s\"We have $n apples\""
      ],
      "execution_count": 0,
      "outputs": [
        {
          "output_type": "display_data",
          "data": {
            "text/plain": [
              "VBox()"
            ],
            "application/vnd.jupyter.widget-view+json": {
              "version_major": 2,
              "version_minor": 0,
              "model_id": "bcce51578c4f487f81c6ffac8408d704"
            }
          },
          "metadata": {
            "tags": []
          }
        },
        {
          "output_type": "stream",
          "text": [
            "n: Int = 45\n",
            "res31: String = We have 45 apples\n"
          ],
          "name": "stdout"
        }
      ]
    },
    {
      "metadata": {
        "trusted": true,
        "id": "z9kKxtPZ386v",
        "colab_type": "code",
        "colab": {},
        "outputId": "d917e03f-10c9-4f53-de2d-6578df43bac8"
      },
      "cell_type": "code",
      "source": [
        "s\"Power of 2: ${math.pow(2,2)}\""
      ],
      "execution_count": 0,
      "outputs": [
        {
          "output_type": "display_data",
          "data": {
            "text/plain": [
              "VBox()"
            ],
            "application/vnd.jupyter.widget-view+json": {
              "version_major": 2,
              "version_minor": 0,
              "model_id": "42eb461710a949a6ba3bfc70add171cc"
            }
          },
          "metadata": {
            "tags": []
          }
        },
        {
          "output_type": "stream",
          "text": [
            "res32: String = Power of 2: 4.0\n"
          ],
          "name": "stdout"
        }
      ]
    },
    {
      "metadata": {
        "trusted": true,
        "id": "0Bpr8mRf3860",
        "colab_type": "code",
        "colab": {},
        "outputId": "05851195-b2cf-4cbd-d48e-9a6df2c08b70"
      },
      "cell_type": "code",
      "source": [
        "\"They stood outside the \\\"Rose and Crown\\\"\"\n"
      ],
      "execution_count": 0,
      "outputs": [
        {
          "output_type": "display_data",
          "data": {
            "text/plain": [
              "VBox()"
            ],
            "application/vnd.jupyter.widget-view+json": {
              "version_major": 2,
              "version_minor": 0,
              "model_id": "defbb72308724d3fbce59857e32e5c9a"
            }
          },
          "metadata": {
            "tags": []
          }
        },
        {
          "output_type": "stream",
          "text": [
            "res33: String = They stood outside the \"Rose and Crown\"\n"
          ],
          "name": "stdout"
        }
      ]
    },
    {
      "metadata": {
        "trusted": true,
        "id": "_5eeZMpT3863",
        "colab_type": "code",
        "colab": {},
        "outputId": "c85e620e-d986-43ce-a579-aafe2a961564"
      },
      "cell_type": "code",
      "source": [
        "def sumofSquares(x: Int, y: Int): Int = {\n",
        "    val x2 = x * x\n",
        "    val y2 = y * y\n",
        "    x2 + y2\n",
        "}"
      ],
      "execution_count": 0,
      "outputs": [
        {
          "output_type": "display_data",
          "data": {
            "text/plain": [
              "VBox()"
            ],
            "application/vnd.jupyter.widget-view+json": {
              "version_major": 2,
              "version_minor": 0,
              "model_id": "a394ba4129b64982a4edf6b32db85c42"
            }
          },
          "metadata": {
            "tags": []
          }
        },
        {
          "output_type": "stream",
          "text": [
            "sumofSquares: (x: Int, y: Int)Int\n"
          ],
          "name": "stdout"
        }
      ]
    },
    {
      "metadata": {
        "trusted": true,
        "id": "RpyYG7BE3867",
        "colab_type": "code",
        "colab": {},
        "outputId": "4d854e47-c22d-4c5f-efc9-13b4c4942437"
      },
      "cell_type": "code",
      "source": [
        "def sumofSquares(x: Int, y: Int): Int = x*x + y*y"
      ],
      "execution_count": 0,
      "outputs": [
        {
          "output_type": "display_data",
          "data": {
            "text/plain": [
              "VBox()"
            ],
            "application/vnd.jupyter.widget-view+json": {
              "version_major": 2,
              "version_minor": 0,
              "model_id": "b8df4da8378544f395036d0d7d398a0a"
            }
          },
          "metadata": {
            "tags": []
          }
        },
        {
          "output_type": "stream",
          "text": [
            "sumofSquares: (x: Int, y: Int)Int\n"
          ],
          "name": "stdout"
        }
      ]
    },
    {
      "metadata": {
        "trusted": true,
        "id": "uor8Yrba386-",
        "colab_type": "code",
        "colab": {},
        "outputId": "9a246f42-66df-4035-bb40-73b9a472d856"
      },
      "cell_type": "code",
      "source": [
        "sumofSquares(3,4)"
      ],
      "execution_count": 0,
      "outputs": [
        {
          "output_type": "display_data",
          "data": {
            "text/plain": [
              "VBox()"
            ],
            "application/vnd.jupyter.widget-view+json": {
              "version_major": 2,
              "version_minor": 0,
              "model_id": "31e0f157fd424c71b632860b49c6bf60"
            }
          },
          "metadata": {
            "tags": []
          }
        },
        {
          "output_type": "stream",
          "text": [
            "res34: Int = 25\n"
          ],
          "name": "stdout"
        }
      ]
    },
    {
      "metadata": {
        "trusted": true,
        "id": "MeunMhBR387A",
        "colab_type": "code",
        "colab": {},
        "outputId": "2595975e-20e9-42e0-cfc4-c738c5519816"
      },
      "cell_type": "code",
      "source": [
        "def substract(x: Int, y:Int):Int = x-y\n",
        "substract(10,3)\n",
        "substract(y=10,x=3)"
      ],
      "execution_count": 0,
      "outputs": [
        {
          "output_type": "display_data",
          "data": {
            "text/plain": [
              "VBox()"
            ],
            "application/vnd.jupyter.widget-view+json": {
              "version_major": 2,
              "version_minor": 0,
              "model_id": "7a841320e1dc429cab3f62da8a6f6721"
            }
          },
          "metadata": {
            "tags": []
          }
        },
        {
          "output_type": "stream",
          "text": [
            "substract: (x: Int, y: Int)Int\n",
            "res36: Int = 7\n",
            "res37: Int = -7\n"
          ],
          "name": "stdout"
        }
      ]
    },
    {
      "metadata": {
        "trusted": true,
        "id": "oGFGVVX0387D",
        "colab_type": "code",
        "colab": {},
        "outputId": "a9a57940-c424-4ecb-d1b9-da3d9ab7ac83"
      },
      "cell_type": "code",
      "source": [
        "def sq(x: Int) = x*x"
      ],
      "execution_count": 0,
      "outputs": [
        {
          "output_type": "display_data",
          "data": {
            "text/plain": [
              "VBox()"
            ],
            "application/vnd.jupyter.widget-view+json": {
              "version_major": 2,
              "version_minor": 0,
              "model_id": "c3195f701593450ebc6f456dbf11f039"
            }
          },
          "metadata": {
            "tags": []
          }
        },
        {
          "output_type": "stream",
          "text": [
            "sq: (x: Int)Int\n"
          ],
          "name": "stdout"
        }
      ]
    },
    {
      "metadata": {
        "trusted": true,
        "id": "dpj64pUI387F",
        "colab_type": "code",
        "colab": {},
        "outputId": "a6760df6-de93-4c18-c6e4-2b05c4143284"
      },
      "cell_type": "code",
      "source": [
        "def addWithDefault(x:Int, y:Int=5) = x+y\n",
        "addWithDefault(1,2)\n",
        "addWithDefault(1)"
      ],
      "execution_count": 0,
      "outputs": [
        {
          "output_type": "display_data",
          "data": {
            "text/plain": [
              "VBox()"
            ],
            "application/vnd.jupyter.widget-view+json": {
              "version_major": 2,
              "version_minor": 0,
              "model_id": "0e270562c3414149a4a46323fc771e1d"
            }
          },
          "metadata": {
            "tags": []
          }
        },
        {
          "output_type": "stream",
          "text": [
            "addWithDefault: (x: Int, y: Int)Int\n",
            "res38: Int = 3\n",
            "res39: Int = 6\n"
          ],
          "name": "stdout"
        }
      ]
    },
    {
      "metadata": {
        "trusted": true,
        "id": "y6EzgyDe387K",
        "colab_type": "code",
        "colab": {},
        "outputId": "af5fce4e-39f6-49a4-f8c5-e60be2b21333"
      },
      "cell_type": "code",
      "source": [
        "(x:Int)=> x*x"
      ],
      "execution_count": 0,
      "outputs": [
        {
          "output_type": "display_data",
          "data": {
            "text/plain": [
              "VBox()"
            ],
            "application/vnd.jupyter.widget-view+json": {
              "version_major": 2,
              "version_minor": 0,
              "model_id": "60f163dfe4e942a69ebf98e7323e3572"
            }
          },
          "metadata": {
            "tags": []
          }
        },
        {
          "output_type": "stream",
          "text": [
            "res40: Int => Int = <function1>\n"
          ],
          "name": "stdout"
        }
      ]
    },
    {
      "metadata": {
        "trusted": true,
        "id": "cOPv-VT6387M",
        "colab_type": "code",
        "colab": {},
        "outputId": "a9972b3f-18f1-465f-e314-ea7fbd00859c"
      },
      "cell_type": "code",
      "source": [
        "val sq: Int=>Int=x=>x*x\n",
        "sq(10)"
      ],
      "execution_count": 0,
      "outputs": [
        {
          "output_type": "display_data",
          "data": {
            "text/plain": [
              "VBox()"
            ],
            "application/vnd.jupyter.widget-view+json": {
              "version_major": 2,
              "version_minor": 0,
              "model_id": "3bcdee4726344373a7a38ec1e46c7dd9"
            }
          },
          "metadata": {
            "tags": []
          }
        },
        {
          "output_type": "stream",
          "text": [
            "sq: Int => Int = <function1>\n",
            "res41: Int = 100\n"
          ],
          "name": "stdout"
        }
      ]
    },
    {
      "metadata": {
        "trusted": true,
        "id": "42qrTizU387P",
        "colab_type": "code",
        "colab": {},
        "outputId": "c6e54e6e-1605-432e-89bd-6648b955c5a4"
      },
      "cell_type": "code",
      "source": [
        "val addOne: Int => Int=_+1\n",
        "val weirdSum: (Int, Int)=> Int=(_ * 2 + _ * 3)"
      ],
      "execution_count": 0,
      "outputs": [
        {
          "output_type": "display_data",
          "data": {
            "text/plain": [
              "VBox()"
            ],
            "application/vnd.jupyter.widget-view+json": {
              "version_major": 2,
              "version_minor": 0,
              "model_id": "6cfee02521a148debb1f93038c141004"
            }
          },
          "metadata": {
            "tags": []
          }
        },
        {
          "output_type": "stream",
          "text": [
            "addOne: Int => Int = <function1>\n",
            "weirdSum: (Int, Int) => Int = <function2>\n"
          ],
          "name": "stdout"
        }
      ]
    },
    {
      "metadata": {
        "trusted": true,
        "id": "hkFkzbX9387S",
        "colab_type": "code",
        "colab": {},
        "outputId": "aa0e8f38-cc37-455f-a0c6-ff0efd4ef60e"
      },
      "cell_type": "code",
      "source": [
        "addOne(5)\n",
        "weirdSum(2,4)"
      ],
      "execution_count": 0,
      "outputs": [
        {
          "output_type": "display_data",
          "data": {
            "text/plain": [
              "VBox()"
            ],
            "application/vnd.jupyter.widget-view+json": {
              "version_major": 2,
              "version_minor": 0,
              "model_id": "e3c090de7d5645cc88e75ae7dce0fd5e"
            }
          },
          "metadata": {
            "tags": []
          }
        },
        {
          "output_type": "stream",
          "text": [
            "res44: Int = 6\n",
            "res45: Int = 16\n"
          ],
          "name": "stdout"
        }
      ]
    },
    {
      "metadata": {
        "trusted": true,
        "id": "0cW1E9iH387V",
        "colab_type": "code",
        "colab": {},
        "outputId": "bd95ecd7-8032-4d14-b375-5fe8c6d2fc55"
      },
      "cell_type": "code",
      "source": [
        "1 to 5\n",
        "val r = 1 to 5\n",
        "r.foreach(println)\n",
        "\n",
        "r foreach println\n",
        "\n",
        "(5 to 1 by -1) foreach(println)"
      ],
      "execution_count": 0,
      "outputs": [
        {
          "output_type": "display_data",
          "data": {
            "text/plain": [
              "VBox()"
            ],
            "application/vnd.jupyter.widget-view+json": {
              "version_major": 2,
              "version_minor": 0,
              "model_id": "23070c82e11847c5a1f6b1fe2aeeaa66"
            }
          },
          "metadata": {
            "tags": []
          }
        },
        {
          "output_type": "stream",
          "text": [
            "res46: scala.collection.immutable.Range.Inclusive = Range(1, 2, 3, 4, 5)\n",
            "r: scala.collection.immutable.Range.Inclusive = Range(1, 2, 3, 4, 5)\n",
            "1\n",
            "2\n",
            "3\n",
            "4\n",
            "5\n",
            "1\n",
            "2\n",
            "3\n",
            "4\n",
            "5\n",
            "5\n",
            "4\n",
            "3\n",
            "2\n",
            "1\n"
          ],
          "name": "stdout"
        }
      ]
    },
    {
      "metadata": {
        "trusted": true,
        "id": "PUI5rND6387Y",
        "colab_type": "code",
        "colab": {},
        "outputId": "62672078-18be-46b2-f63c-ca7b0d01a708"
      },
      "cell_type": "code",
      "source": [
        "def showNumbersInRange(a:Int, b:Int): Unit={\n",
        "    print(a)\n",
        "    if (a<b)\n",
        "        showNumbersInRange(a+1,b)\n",
        "}\n",
        "showNumbersInRange(1,14)"
      ],
      "execution_count": 0,
      "outputs": [
        {
          "output_type": "display_data",
          "data": {
            "text/plain": [
              "VBox()"
            ],
            "application/vnd.jupyter.widget-view+json": {
              "version_major": 2,
              "version_minor": 0,
              "model_id": "0e3880bd8d4e44bb99614c8be04efc90"
            }
          },
          "metadata": {
            "tags": []
          }
        },
        {
          "output_type": "stream",
          "text": [
            "showNumbersInRange: (a: Int, b: Int)Unit\n",
            "1234567891011121314"
          ],
          "name": "stdout"
        }
      ]
    },
    {
      "metadata": {
        "trusted": true,
        "id": "4cUwx3Es387b",
        "colab_type": "code",
        "colab": {},
        "outputId": "51174ed4-3614-404a-8a8f-6b9296196975"
      },
      "cell_type": "code",
      "source": [
        "val x=10\n",
        "if (x==1) println(\"yeah\")\n",
        "if (x==10) println(\"yeah\") else println(\"nay\")\n"
      ],
      "execution_count": 0,
      "outputs": [
        {
          "output_type": "display_data",
          "data": {
            "text/plain": [
              "VBox()"
            ],
            "application/vnd.jupyter.widget-view+json": {
              "version_major": 2,
              "version_minor": 0,
              "model_id": "9c101ba849ca4d02b11dba0235fb8bc9"
            }
          },
          "metadata": {
            "tags": []
          }
        },
        {
          "output_type": "stream",
          "text": [
            "x: Int = 10\n",
            "yeah\n"
          ],
          "name": "stdout"
        }
      ]
    },
    {
      "metadata": {
        "trusted": true,
        "id": "TW-WZ09z387d",
        "colab_type": "code",
        "colab": {},
        "outputId": "a015e7cb-4055-4a23-fd43-f6f697286212"
      },
      "cell_type": "code",
      "source": [
        "println(if (x==10) \"yeah\" else \"nope\")\n",
        "val text = if (x==10) \"yeah\" else \"nope\"\n"
      ],
      "execution_count": 0,
      "outputs": [
        {
          "output_type": "display_data",
          "data": {
            "text/plain": [
              "VBox()"
            ],
            "application/vnd.jupyter.widget-view+json": {
              "version_major": 2,
              "version_minor": 0,
              "model_id": "9df969f1f1e048a3bf33e2dc97c4b4ab"
            }
          },
          "metadata": {
            "tags": []
          }
        },
        {
          "output_type": "stream",
          "text": [
            "yeah\n",
            "text: String = yeah\n"
          ],
          "name": "stdout"
        }
      ]
    },
    {
      "metadata": {
        "trusted": true,
        "id": "XNIh8_uf387f",
        "colab_type": "code",
        "colab": {},
        "outputId": "3b63e31a-d4a0-4f8d-f634-4ae0a93d3bdf"
      },
      "cell_type": "code",
      "source": [
        "val a = Array(1,2,3,5,8,13)\n",
        "a(0)\n",
        "a(3)\n",
        "a(21)"
      ],
      "execution_count": 0,
      "outputs": [
        {
          "output_type": "display_data",
          "data": {
            "text/plain": [
              "VBox()"
            ],
            "application/vnd.jupyter.widget-view+json": {
              "version_major": 2,
              "version_minor": 0,
              "model_id": "5cf597a39c904788b391844489ba3e4e"
            }
          },
          "metadata": {
            "tags": []
          }
        },
        {
          "output_type": "stream",
          "text": [
            "java.lang.ArrayIndexOutOfBoundsException: 21\n",
            "  ... 50 elided\n",
            "\n"
          ],
          "name": "stderr"
        }
      ]
    },
    {
      "metadata": {
        "trusted": true,
        "id": "Cyjca9H6387h",
        "colab_type": "code",
        "colab": {},
        "outputId": "9e35bab4-a2e6-4078-819c-39d5e1105181"
      },
      "cell_type": "code",
      "source": [
        "val s= Set(1,3,7)\n",
        "s(0)\n",
        "s(1)"
      ],
      "execution_count": 0,
      "outputs": [
        {
          "output_type": "display_data",
          "data": {
            "text/plain": [
              "VBox()"
            ],
            "application/vnd.jupyter.widget-view+json": {
              "version_major": 2,
              "version_minor": 0,
              "model_id": "30252d2a47574eeaad471333a37e985d"
            }
          },
          "metadata": {
            "tags": []
          }
        },
        {
          "output_type": "stream",
          "text": [
            "s: scala.collection.immutable.Set[Int] = Set(1, 3, 7)\n",
            "res60: Boolean = false\n",
            "res61: Boolean = true\n"
          ],
          "name": "stdout"
        }
      ]
    },
    {
      "metadata": {
        "trusted": true,
        "id": "X0JetcAX387j",
        "colab_type": "code",
        "colab": {},
        "outputId": "2d560153-379c-4202-981a-8c80a5a169d1"
      },
      "cell_type": "code",
      "source": [
        "(1,2)\n",
        "(4,3,2)\n",
        "(1,2,\"three\")\n",
        "(a,2,\"three\")"
      ],
      "execution_count": 0,
      "outputs": [
        {
          "output_type": "display_data",
          "data": {
            "text/plain": [
              "VBox()"
            ],
            "application/vnd.jupyter.widget-view+json": {
              "version_major": 2,
              "version_minor": 0,
              "model_id": "574d80467f4f4eeb9c60bc0838447047"
            }
          },
          "metadata": {
            "tags": []
          }
        },
        {
          "output_type": "stream",
          "text": [
            "res62: (Int, Int) = (1,2)\n",
            "res63: (Int, Int, Int) = (4,3,2)\n",
            "res64: (Int, Int, String) = (1,2,three)\n",
            "res65: (Array[Int], Int, String) = (Array(1, 2, 3, 5, 8, 13),2,three)\n"
          ],
          "name": "stdout"
        }
      ]
    },
    {
      "metadata": {
        "trusted": true,
        "id": "qNjFQxFL387m",
        "colab_type": "code",
        "colab": {},
        "outputId": "af4237c5-07f6-4dc7-f51f-fe048c4430ce"
      },
      "cell_type": "code",
      "source": [
        "val divideInts = (x:Int, y:Int)=>(x/y, x%y)"
      ],
      "execution_count": 0,
      "outputs": [
        {
          "output_type": "display_data",
          "data": {
            "text/plain": [
              "VBox()"
            ],
            "application/vnd.jupyter.widget-view+json": {
              "version_major": 2,
              "version_minor": 0,
              "model_id": "37d4ee52df634d25b9e103d24adebcad"
            }
          },
          "metadata": {
            "tags": []
          }
        },
        {
          "output_type": "stream",
          "text": [
            "divideInts: (Int, Int) => (Int, Int) = <function2>\n"
          ],
          "name": "stdout"
        }
      ]
    },
    {
      "metadata": {
        "trusted": true,
        "id": "mlbw2Fwn387o",
        "colab_type": "code",
        "colab": {},
        "outputId": "12cee441-c129-492a-9fc4-17b78dedbfd5"
      },
      "cell_type": "code",
      "source": [
        "divideInts(10,3)"
      ],
      "execution_count": 0,
      "outputs": [
        {
          "output_type": "display_data",
          "data": {
            "text/plain": [
              "VBox()"
            ],
            "application/vnd.jupyter.widget-view+json": {
              "version_major": 2,
              "version_minor": 0,
              "model_id": "af365f6cf7a44e0382b0fa5d7caedd43"
            }
          },
          "metadata": {
            "tags": []
          }
        },
        {
          "output_type": "stream",
          "text": [
            "res66: (Int, Int) = (3,1)\n"
          ],
          "name": "stdout"
        }
      ]
    },
    {
      "metadata": {
        "trusted": true,
        "id": "FkYIWb7W387r",
        "colab_type": "code",
        "colab": {},
        "outputId": "7fed0c99-e9cb-4dcd-85b6-96faddbb4104"
      },
      "cell_type": "code",
      "source": [
        "val d = divideInts(10,3)\n",
        "d._1\n",
        "d._2"
      ],
      "execution_count": 0,
      "outputs": [
        {
          "output_type": "display_data",
          "data": {
            "text/plain": [
              "VBox()"
            ],
            "application/vnd.jupyter.widget-view+json": {
              "version_major": 2,
              "version_minor": 0,
              "model_id": "dc7c5e83622d49c0b76afa17778e499e"
            }
          },
          "metadata": {
            "tags": []
          }
        },
        {
          "output_type": "stream",
          "text": [
            "d: (Int, Int) = (3,1)\n",
            "res67: Int = 3\n",
            "res68: Int = 1\n"
          ],
          "name": "stdout"
        }
      ]
    },
    {
      "metadata": {
        "trusted": true,
        "id": "ay0eRvvv387u",
        "colab_type": "code",
        "colab": {},
        "outputId": "9f7bb3a3-ce1a-4982-a978-9a42cc426eba"
      },
      "cell_type": "code",
      "source": [
        "val(div, mod)= divideInts(10,3)\n",
        "div\n",
        "mod"
      ],
      "execution_count": 0,
      "outputs": [
        {
          "output_type": "display_data",
          "data": {
            "text/plain": [
              "VBox()"
            ],
            "application/vnd.jupyter.widget-view+json": {
              "version_major": 2,
              "version_minor": 0,
              "model_id": "79fe5b6446404badb6678ad384b82c98"
            }
          },
          "metadata": {
            "tags": []
          }
        },
        {
          "output_type": "stream",
          "text": [
            "div: Int = 3\n",
            "mod: Int = 1\n",
            "res69: Int = 3\n",
            "res70: Int = 1\n"
          ],
          "name": "stdout"
        }
      ]
    },
    {
      "metadata": {
        "trusted": true,
        "id": "w1jS8Jct387v",
        "colab_type": "code",
        "colab": {},
        "outputId": "527747fe-a60e-4d60-ef96-2ae462a35882"
      },
      "cell_type": "code",
      "source": [
        "val add10:Int => Int=_+10\n",
        "List(1,2,3) map add10\n"
      ],
      "execution_count": 0,
      "outputs": [
        {
          "output_type": "display_data",
          "data": {
            "text/plain": [
              "VBox()"
            ],
            "application/vnd.jupyter.widget-view+json": {
              "version_major": 2,
              "version_minor": 0,
              "model_id": "c31c63b5928946068ebc086c543d1626"
            }
          },
          "metadata": {
            "tags": []
          }
        },
        {
          "output_type": "stream",
          "text": [
            "add10: Int => Int = <function1>\n",
            "res71: List[Int] = List(11, 12, 13)\n"
          ],
          "name": "stdout"
        }
      ]
    },
    {
      "metadata": {
        "trusted": true,
        "id": "gdptrlRT387y",
        "colab_type": "code",
        "colab": {},
        "outputId": "b52a6aff-9077-4c11-dc16-7a6f06d73a7d"
      },
      "cell_type": "code",
      "source": [
        "List(1,2,3) map (x=> x+10)"
      ],
      "execution_count": 0,
      "outputs": [
        {
          "output_type": "display_data",
          "data": {
            "text/plain": [
              "VBox()"
            ],
            "application/vnd.jupyter.widget-view+json": {
              "version_major": 2,
              "version_minor": 0,
              "model_id": "7f7453e2e6784b398c20a88a47648fda"
            }
          },
          "metadata": {
            "tags": []
          }
        },
        {
          "output_type": "stream",
          "text": [
            "res72: List[Int] = List(11, 12, 13)\n"
          ],
          "name": "stdout"
        }
      ]
    },
    {
      "metadata": {
        "trusted": true,
        "id": "QWYLm5LU3872",
        "colab_type": "code",
        "colab": {},
        "outputId": "e194e779-fc48-4ab8-e2fb-ab945822d19f"
      },
      "cell_type": "code",
      "source": [
        "List(1,2,3) map(_+10)"
      ],
      "execution_count": 0,
      "outputs": [
        {
          "output_type": "display_data",
          "data": {
            "text/plain": [
              "VBox()"
            ],
            "application/vnd.jupyter.widget-view+json": {
              "version_major": 2,
              "version_minor": 0,
              "model_id": "41ad1fdcd1864347902f4108dea89d9c"
            }
          },
          "metadata": {
            "tags": []
          }
        },
        {
          "output_type": "stream",
          "text": [
            "res74: List[Int] = List(11, 12, 13)\n"
          ],
          "name": "stdout"
        }
      ]
    },
    {
      "metadata": {
        "trusted": true,
        "id": "2HjhKs0Y3875",
        "colab_type": "code",
        "colab": {},
        "outputId": "049b1493-c256-477e-9199-76bbdadd6a65"
      },
      "cell_type": "code",
      "source": [
        "List(\"Dom\",\"Bob\",\"Natalia\") foreach println"
      ],
      "execution_count": 0,
      "outputs": [
        {
          "output_type": "display_data",
          "data": {
            "text/plain": [
              "VBox()"
            ],
            "application/vnd.jupyter.widget-view+json": {
              "version_major": 2,
              "version_minor": 0,
              "model_id": "aac6abfa51e34cc2bc02924e6753b526"
            }
          },
          "metadata": {
            "tags": []
          }
        },
        {
          "output_type": "stream",
          "text": [
            "Dom\n",
            "Bob\n",
            "Natalia\n"
          ],
          "name": "stdout"
        }
      ]
    },
    {
      "metadata": {
        "trusted": true,
        "id": "1pR5mwF93877",
        "colab_type": "code",
        "colab": {},
        "outputId": "4e5d4f74-6254-41e9-e8fb-8e8db6bc712e"
      },
      "cell_type": "code",
      "source": [
        "val s=Set(1,3,7)\n",
        "s.map(sq)\n",
        "val sSquared = s. map(sq)\n",
        "sSquared.filter(_ < 10)\n",
        "sSquared.reduce(_+_)"
      ],
      "execution_count": 0,
      "outputs": [
        {
          "output_type": "display_data",
          "data": {
            "text/plain": [
              "VBox()"
            ],
            "application/vnd.jupyter.widget-view+json": {
              "version_major": 2,
              "version_minor": 0,
              "model_id": "f4ac98e7c150434e9e303986916a5729"
            }
          },
          "metadata": {
            "tags": []
          }
        },
        {
          "output_type": "stream",
          "text": [
            "s: scala.collection.immutable.Set[Int] = Set(1, 3, 7)\n",
            "res76: scala.collection.immutable.Set[Int] = Set(1, 9, 49)\n",
            "sSquared: scala.collection.immutable.Set[Int] = Set(1, 9, 49)\n",
            "res77: scala.collection.immutable.Set[Int] = Set(1, 9)\n",
            "res78: Int = 59\n"
          ],
          "name": "stdout"
        }
      ]
    },
    {
      "metadata": {
        "trusted": true,
        "id": "dzg0m5nV3878",
        "colab_type": "code",
        "colab": {},
        "outputId": "4f0a6fa5-0922-4558-ad77-7fe819820f8a"
      },
      "cell_type": "code",
      "source": [
        "List(1,2,3) filter(_ > 2)\n",
        "case class Person(name:String, age:Int)\n",
        "List(\n",
        "    Person(name = \"Dom\", age=23),\n",
        "    Person(name = \"Bob\", age=30)\n",
        ").filter(_.age > 25)"
      ],
      "execution_count": 0,
      "outputs": [
        {
          "output_type": "display_data",
          "data": {
            "text/plain": [
              "VBox()"
            ],
            "application/vnd.jupyter.widget-view+json": {
              "version_major": 2,
              "version_minor": 0,
              "model_id": "cf8d7a6ddc5945aa846dc8697c67d721"
            }
          },
          "metadata": {
            "tags": []
          }
        },
        {
          "output_type": "stream",
          "text": [
            "res79: List[Int] = List(3)\n",
            "defined class Person\n",
            "res80: List[Person] = List(Person(Bob,30))\n"
          ],
          "name": "stdout"
        }
      ]
    },
    {
      "metadata": {
        "trusted": true,
        "id": "E838qp6W387_",
        "colab_type": "code",
        "colab": {},
        "outputId": "5900c274-9e79-4967-8df8-70992b274919"
      },
      "cell_type": "code",
      "source": [
        "val aListOfNumbers = List(1,2,3,4,10,20,100)\n",
        "aListOfNumbers foreach (x => println(x))\n",
        "aListOfNumbers foreach println"
      ],
      "execution_count": 0,
      "outputs": [
        {
          "output_type": "display_data",
          "data": {
            "text/plain": [
              "VBox()"
            ],
            "application/vnd.jupyter.widget-view+json": {
              "version_major": 2,
              "version_minor": 0,
              "model_id": "ca5c8eae4d3748349e9c575a6314edad"
            }
          },
          "metadata": {
            "tags": []
          }
        },
        {
          "output_type": "stream",
          "text": [
            "aListOfNumbers: List[Int] = List(1, 2, 3, 4, 10, 20, 100)\n",
            "1\n",
            "2\n",
            "3\n",
            "4\n",
            "10\n",
            "20\n",
            "100\n",
            "1\n",
            "2\n",
            "3\n",
            "4\n",
            "10\n",
            "20\n",
            "100\n"
          ],
          "name": "stdout"
        }
      ]
    },
    {
      "metadata": {
        "trusted": true,
        "id": "kxi9AFwZ388B",
        "colab_type": "code",
        "colab": {},
        "outputId": "a85a372b-2a42-489f-bee7-6c590e6485b1"
      },
      "cell_type": "code",
      "source": [
        "import scala.collection.immutable.List\n",
        "import scala.collection.immutable._\n",
        "import scala.collection.immutable.{List, Map}\n",
        "import scala.collection.immutable.{List => ImmutableList}"
      ],
      "execution_count": 0,
      "outputs": [
        {
          "output_type": "display_data",
          "data": {
            "text/plain": [
              "VBox()"
            ],
            "application/vnd.jupyter.widget-view+json": {
              "version_major": 2,
              "version_minor": 0,
              "model_id": "5d86aeb32dec43d7a5f1e5e696b52f82"
            }
          },
          "metadata": {
            "tags": []
          }
        },
        {
          "output_type": "stream",
          "text": [
            "import scala.collection.immutable.List\n",
            "import scala.collection.immutable._\n",
            "import scala.collection.immutable.{List, Map}\n",
            "import scala.collection.immutable.{List=>ImmutableList}\n"
          ],
          "name": "stdout"
        }
      ]
    },
    {
      "metadata": {
        "trusted": true,
        "id": "dhjkVCnD388D",
        "colab_type": "code",
        "colab": {}
      },
      "cell_type": "code",
      "source": [
        ""
      ],
      "execution_count": 0,
      "outputs": []
    }
  ]
}